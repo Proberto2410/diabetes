{
 "cells": [
  {
   "cell_type": "markdown",
   "metadata": {},
   "source": [
    "## Preprocessing"
   ]
  },
  {
   "cell_type": "code",
   "execution_count": 1,
   "metadata": {},
   "outputs": [
    {
     "name": "stdout",
     "output_type": "stream",
     "text": [
      "Requirement already satisfied: pandas==1.5.3 in c:\\users\\probe\\appdata\\local\\programs\\python\\python39\\lib\\site-packages (1.5.3)Note: you may need to restart the kernel to use updated packages.\n",
      "\n",
      "Requirement already satisfied: python-dateutil>=2.8.1 in c:\\users\\probe\\appdata\\local\\programs\\python\\python39\\lib\\site-packages (from pandas==1.5.3) (2.8.2)\n",
      "Requirement already satisfied: pytz>=2020.1 in c:\\users\\probe\\appdata\\local\\programs\\python\\python39\\lib\\site-packages (from pandas==1.5.3) (2021.3)\n",
      "Requirement already satisfied: numpy>=1.20.3 in c:\\users\\probe\\appdata\\local\\programs\\python\\python39\\lib\\site-packages (from pandas==1.5.3) (1.21.2)\n",
      "Requirement already satisfied: six>=1.5 in c:\\users\\probe\\appdata\\local\\programs\\python\\python39\\lib\\site-packages (from python-dateutil>=2.8.1->pandas==1.5.3) (1.16.0)\n"
     ]
    }
   ],
   "source": [
    "%pip install pandas==1.5.3"
   ]
  },
  {
   "cell_type": "code",
   "execution_count": 2,
   "metadata": {},
   "outputs": [
    {
     "name": "stdout",
     "output_type": "stream",
     "text": [
      "Note: you may need to restart the kernel to use updated packages.\n"
     ]
    },
    {
     "name": "stderr",
     "output_type": "stream",
     "text": [
      "ERROR: unknown command \"joblib==1.2.0\"\n",
      "\n"
     ]
    }
   ],
   "source": [
    "%pip joblib==1.2.0"
   ]
  },
  {
   "cell_type": "code",
   "execution_count": 3,
   "metadata": {},
   "outputs": [
    {
     "name": "stdout",
     "output_type": "stream",
     "text": [
      "Requirement already satisfied: pandas==1.5.3 in c:\\users\\probe\\appdata\\local\\programs\\python\\python39\\lib\\site-packages (1.5.3)\n",
      "Requirement already satisfied: python-dateutil>=2.8.1 in c:\\users\\probe\\appdata\\local\\programs\\python\\python39\\lib\\site-packages (from pandas==1.5.3) (2.8.2)\n",
      "Requirement already satisfied: pytz>=2020.1 in c:\\users\\probe\\appdata\\local\\programs\\python\\python39\\lib\\site-packages (from pandas==1.5.3) (2021.3)\n",
      "Requirement already satisfied: numpy>=1.20.3 in c:\\users\\probe\\appdata\\local\\programs\\python\\python39\\lib\\site-packages (from pandas==1.5.3) (1.21.2)\n",
      "Requirement already satisfied: six>=1.5 in c:\\users\\probe\\appdata\\local\\programs\\python\\python39\\lib\\site-packages (from python-dateutil>=2.8.1->pandas==1.5.3) (1.16.0)\n",
      "Note: you may need to restart the kernel to use updated packages.\n"
     ]
    }
   ],
   "source": [
    "%pip install pandas==1.5.3"
   ]
  },
  {
   "cell_type": "code",
   "execution_count": 4,
   "metadata": {},
   "outputs": [
    {
     "name": "stdout",
     "output_type": "stream",
     "text": [
      "Requirement already satisfied: streamlit==1.23.0 in c:\\users\\probe\\appdata\\local\\programs\\python\\python39\\lib\\site-packages (1.23.0)\n",
      "Requirement already satisfied: altair<6,>=4.0 in c:\\users\\probe\\appdata\\local\\programs\\python\\python39\\lib\\site-packages (from streamlit==1.23.0) (4.2.2)\n",
      "Requirement already satisfied: blinker<2,>=1.0.0 in c:\\users\\probe\\appdata\\local\\programs\\python\\python39\\lib\\site-packages (from streamlit==1.23.0) (1.8.2)\n",
      "Requirement already satisfied: cachetools<6,>=4.0 in c:\\users\\probe\\appdata\\local\\programs\\python\\python39\\lib\\site-packages (from streamlit==1.23.0) (5.2.0)\n",
      "Requirement already satisfied: click<9,>=7.0 in c:\\users\\probe\\appdata\\local\\programs\\python\\python39\\lib\\site-packages (from streamlit==1.23.0) (8.1.7)\n",
      "Requirement already satisfied: importlib-metadata<7,>=1.4 in c:\\users\\probe\\appdata\\local\\programs\\python\\python39\\lib\\site-packages (from streamlit==1.23.0) (6.11.0)\n",
      "Requirement already satisfied: numpy<2,>=1 in c:\\users\\probe\\appdata\\local\\programs\\python\\python39\\lib\\site-packages (from streamlit==1.23.0) (1.21.2)\n",
      "Requirement already satisfied: packaging<24,>=14.1 in c:\\users\\probe\\appdata\\local\\programs\\python\\python39\\lib\\site-packages (from streamlit==1.23.0) (23.2)\n",
      "Requirement already satisfied: pandas<3,>=0.25 in c:\\users\\probe\\appdata\\local\\programs\\python\\python39\\lib\\site-packages (from streamlit==1.23.0) (1.5.3)\n",
      "Requirement already satisfied: pillow<10,>=6.2.0 in c:\\users\\probe\\appdata\\local\\programs\\python\\python39\\lib\\site-packages (from streamlit==1.23.0) (9.0.1)\n",
      "Requirement already satisfied: protobuf<5,>=3.20 in c:\\users\\probe\\appdata\\local\\programs\\python\\python39\\lib\\site-packages (from streamlit==1.23.0) (3.20.0)\n",
      "Requirement already satisfied: pyarrow>=4.0 in c:\\users\\probe\\appdata\\local\\programs\\python\\python39\\lib\\site-packages (from streamlit==1.23.0) (19.0.0)\n",
      "Requirement already satisfied: pympler<2,>=0.9 in c:\\users\\probe\\appdata\\local\\programs\\python\\python39\\lib\\site-packages (from streamlit==1.23.0) (1.0.1)\n",
      "Requirement already satisfied: python-dateutil<3,>=2 in c:\\users\\probe\\appdata\\local\\programs\\python\\python39\\lib\\site-packages (from streamlit==1.23.0) (2.8.2)\n",
      "Requirement already satisfied: requests<3,>=2.4 in c:\\users\\probe\\appdata\\local\\programs\\python\\python39\\lib\\site-packages (from streamlit==1.23.0) (2.32.3)\n",
      "Requirement already satisfied: rich<14,>=10.11.0 in c:\\users\\probe\\appdata\\local\\programs\\python\\python39\\lib\\site-packages (from streamlit==1.23.0) (12.4.4)\n",
      "Requirement already satisfied: tenacity<9,>=8.0.0 in c:\\users\\probe\\appdata\\local\\programs\\python\\python39\\lib\\site-packages (from streamlit==1.23.0) (8.0.1)\n",
      "Requirement already satisfied: toml<2 in c:\\users\\probe\\appdata\\local\\programs\\python\\python39\\lib\\site-packages (from streamlit==1.23.0) (0.10.2)\n",
      "Requirement already satisfied: typing-extensions>=3.10.0.0 in c:\\users\\probe\\appdata\\local\\programs\\python\\python39\\lib\\site-packages (from streamlit==1.23.0) (4.12.2)\n",
      "Requirement already satisfied: tzlocal<5,>=1.1 in c:\\users\\probe\\appdata\\local\\programs\\python\\python39\\lib\\site-packages (from streamlit==1.23.0) (4.2)\n",
      "Requirement already satisfied: validators<1,>=0.2 in c:\\users\\probe\\appdata\\local\\programs\\python\\python39\\lib\\site-packages (from streamlit==1.23.0) (0.20.0)\n",
      "Requirement already satisfied: gitpython!=3.1.19,<4,>=3 in c:\\users\\probe\\appdata\\local\\programs\\python\\python39\\lib\\site-packages (from streamlit==1.23.0) (3.1.27)\n",
      "Requirement already satisfied: pydeck<1,>=0.1.dev5 in c:\\users\\probe\\appdata\\local\\programs\\python\\python39\\lib\\site-packages (from streamlit==1.23.0) (0.7.1)\n",
      "Requirement already satisfied: tornado<7,>=6.0.3 in c:\\users\\probe\\appdata\\local\\programs\\python\\python39\\lib\\site-packages (from streamlit==1.23.0) (6.4.2)\n",
      "Requirement already satisfied: watchdog in c:\\users\\probe\\appdata\\local\\programs\\python\\python39\\lib\\site-packages (from streamlit==1.23.0) (6.0.0)\n",
      "Requirement already satisfied: entrypoints in c:\\users\\probe\\appdata\\local\\programs\\python\\python39\\lib\\site-packages (from altair<6,>=4.0->streamlit==1.23.0) (0.4)\n",
      "Requirement already satisfied: jinja2 in c:\\users\\probe\\appdata\\local\\programs\\python\\python39\\lib\\site-packages (from altair<6,>=4.0->streamlit==1.23.0) (3.1.2)\n",
      "Requirement already satisfied: jsonschema>=3.0 in c:\\users\\probe\\appdata\\local\\programs\\python\\python39\\lib\\site-packages (from altair<6,>=4.0->streamlit==1.23.0) (4.23.0)\n",
      "Requirement already satisfied: toolz in c:\\users\\probe\\appdata\\local\\programs\\python\\python39\\lib\\site-packages (from altair<6,>=4.0->streamlit==1.23.0) (0.11.2)\n",
      "Requirement already satisfied: colorama in c:\\users\\probe\\appdata\\local\\programs\\python\\python39\\lib\\site-packages (from click<9,>=7.0->streamlit==1.23.0) (0.4.6)\n",
      "Requirement already satisfied: gitdb<5,>=4.0.1 in c:\\users\\probe\\appdata\\local\\programs\\python\\python39\\lib\\site-packages (from gitpython!=3.1.19,<4,>=3->streamlit==1.23.0) (4.0.9)\n",
      "Requirement already satisfied: zipp>=0.5 in c:\\users\\probe\\appdata\\local\\programs\\python\\python39\\lib\\site-packages (from importlib-metadata<7,>=1.4->streamlit==1.23.0) (3.20.1)\n",
      "Requirement already satisfied: pytz>=2020.1 in c:\\users\\probe\\appdata\\local\\programs\\python\\python39\\lib\\site-packages (from pandas<3,>=0.25->streamlit==1.23.0) (2021.3)\n",
      "Requirement already satisfied: ipywidgets>=7.0.0 in c:\\users\\probe\\appdata\\local\\programs\\python\\python39\\lib\\site-packages (from pydeck<1,>=0.1.dev5->streamlit==1.23.0) (7.7.1)\n",
      "Requirement already satisfied: traitlets>=4.3.2 in c:\\users\\probe\\appdata\\local\\programs\\python\\python39\\lib\\site-packages (from pydeck<1,>=0.1.dev5->streamlit==1.23.0) (5.9.0)\n",
      "Requirement already satisfied: ipykernel>=5.1.2 in c:\\users\\probe\\appdata\\local\\programs\\python\\python39\\lib\\site-packages (from pydeck<1,>=0.1.dev5->streamlit==1.23.0) (6.15.0)\n",
      "Requirement already satisfied: six>=1.5 in c:\\users\\probe\\appdata\\local\\programs\\python\\python39\\lib\\site-packages (from python-dateutil<3,>=2->streamlit==1.23.0) (1.16.0)\n",
      "Requirement already satisfied: charset-normalizer<4,>=2 in c:\\users\\probe\\appdata\\local\\programs\\python\\python39\\lib\\site-packages (from requests<3,>=2.4->streamlit==1.23.0) (2.0.12)\n",
      "Requirement already satisfied: idna<4,>=2.5 in c:\\users\\probe\\appdata\\local\\programs\\python\\python39\\lib\\site-packages (from requests<3,>=2.4->streamlit==1.23.0) (3.3)\n",
      "Requirement already satisfied: urllib3<3,>=1.21.1 in c:\\users\\probe\\appdata\\local\\programs\\python\\python39\\lib\\site-packages (from requests<3,>=2.4->streamlit==1.23.0) (2.3.0)\n",
      "Requirement already satisfied: certifi>=2017.4.17 in c:\\users\\probe\\appdata\\local\\programs\\python\\python39\\lib\\site-packages (from requests<3,>=2.4->streamlit==1.23.0) (2021.10.8)\n",
      "Requirement already satisfied: commonmark<0.10.0,>=0.9.0 in c:\\users\\probe\\appdata\\local\\programs\\python\\python39\\lib\\site-packages (from rich<14,>=10.11.0->streamlit==1.23.0) (0.9.1)\n",
      "Requirement already satisfied: pygments<3.0.0,>=2.6.0 in c:\\users\\probe\\appdata\\local\\programs\\python\\python39\\lib\\site-packages (from rich<14,>=10.11.0->streamlit==1.23.0) (2.19.1)\n",
      "Requirement already satisfied: pytz-deprecation-shim in c:\\users\\probe\\appdata\\local\\programs\\python\\python39\\lib\\site-packages (from tzlocal<5,>=1.1->streamlit==1.23.0) (0.1.0.post0)\n",
      "Requirement already satisfied: tzdata in c:\\users\\probe\\appdata\\local\\programs\\python\\python39\\lib\\site-packages (from tzlocal<5,>=1.1->streamlit==1.23.0) (2024.1)\n",
      "Requirement already satisfied: decorator>=3.4.0 in c:\\users\\probe\\appdata\\local\\programs\\python\\python39\\lib\\site-packages (from validators<1,>=0.2->streamlit==1.23.0) (5.1.1)\n",
      "Requirement already satisfied: smmap<6,>=3.0.1 in c:\\users\\probe\\appdata\\local\\programs\\python\\python39\\lib\\site-packages (from gitdb<5,>=4.0.1->gitpython!=3.1.19,<4,>=3->streamlit==1.23.0) (5.0.0)\n",
      "Requirement already satisfied: debugpy>=1.0 in c:\\users\\probe\\appdata\\local\\programs\\python\\python39\\lib\\site-packages (from ipykernel>=5.1.2->pydeck<1,>=0.1.dev5->streamlit==1.23.0) (1.5.1)\n",
      "Requirement already satisfied: ipython>=7.23.1 in c:\\users\\probe\\appdata\\local\\programs\\python\\python39\\lib\\site-packages (from ipykernel>=5.1.2->pydeck<1,>=0.1.dev5->streamlit==1.23.0) (8.4.0)\n",
      "Requirement already satisfied: jupyter-client>=6.1.12 in c:\\users\\probe\\appdata\\local\\programs\\python\\python39\\lib\\site-packages (from ipykernel>=5.1.2->pydeck<1,>=0.1.dev5->streamlit==1.23.0) (8.6.3)\n",
      "Requirement already satisfied: matplotlib-inline>=0.1 in c:\\users\\probe\\appdata\\local\\programs\\python\\python39\\lib\\site-packages (from ipykernel>=5.1.2->pydeck<1,>=0.1.dev5->streamlit==1.23.0) (0.1.3)\n",
      "Requirement already satisfied: nest-asyncio in c:\\users\\probe\\appdata\\local\\programs\\python\\python39\\lib\\site-packages (from ipykernel>=5.1.2->pydeck<1,>=0.1.dev5->streamlit==1.23.0) (1.5.5)\n",
      "Requirement already satisfied: psutil in c:\\users\\probe\\appdata\\local\\programs\\python\\python39\\lib\\site-packages (from ipykernel>=5.1.2->pydeck<1,>=0.1.dev5->streamlit==1.23.0) (5.9.1)\n",
      "Requirement already satisfied: pyzmq>=17 in c:\\users\\probe\\appdata\\local\\programs\\python\\python39\\lib\\site-packages (from ipykernel>=5.1.2->pydeck<1,>=0.1.dev5->streamlit==1.23.0) (26.2.1)\n",
      "Requirement already satisfied: ipython-genutils~=0.2.0 in c:\\users\\probe\\appdata\\local\\programs\\python\\python39\\lib\\site-packages (from ipywidgets>=7.0.0->pydeck<1,>=0.1.dev5->streamlit==1.23.0) (0.2.0)\n",
      "Requirement already satisfied: widgetsnbextension~=3.6.0 in c:\\users\\probe\\appdata\\local\\programs\\python\\python39\\lib\\site-packages (from ipywidgets>=7.0.0->pydeck<1,>=0.1.dev5->streamlit==1.23.0) (3.6.1)\n",
      "Requirement already satisfied: jupyterlab-widgets>=1.0.0 in c:\\users\\probe\\appdata\\local\\programs\\python\\python39\\lib\\site-packages (from ipywidgets>=7.0.0->pydeck<1,>=0.1.dev5->streamlit==1.23.0) (1.1.1)\n",
      "Requirement already satisfied: MarkupSafe>=2.0 in c:\\users\\probe\\appdata\\local\\programs\\python\\python39\\lib\\site-packages (from jinja2->altair<6,>=4.0->streamlit==1.23.0) (2.1.1)\n",
      "Requirement already satisfied: attrs>=22.2.0 in c:\\users\\probe\\appdata\\local\\programs\\python\\python39\\lib\\site-packages (from jsonschema>=3.0->altair<6,>=4.0->streamlit==1.23.0) (25.1.0)\n",
      "Requirement already satisfied: jsonschema-specifications>=2023.03.6 in c:\\users\\probe\\appdata\\local\\programs\\python\\python39\\lib\\site-packages (from jsonschema>=3.0->altair<6,>=4.0->streamlit==1.23.0) (2024.10.1)\n",
      "Requirement already satisfied: referencing>=0.28.4 in c:\\users\\probe\\appdata\\local\\programs\\python\\python39\\lib\\site-packages (from jsonschema>=3.0->altair<6,>=4.0->streamlit==1.23.0) (0.36.2)\n",
      "Requirement already satisfied: rpds-py>=0.7.1 in c:\\users\\probe\\appdata\\local\\programs\\python\\python39\\lib\\site-packages (from jsonschema>=3.0->altair<6,>=4.0->streamlit==1.23.0) (0.22.3)\n",
      "Requirement already satisfied: backcall in c:\\users\\probe\\appdata\\local\\programs\\python\\python39\\lib\\site-packages (from ipython>=7.23.1->ipykernel>=5.1.2->pydeck<1,>=0.1.dev5->streamlit==1.23.0) (0.2.0)\n",
      "Requirement already satisfied: jedi>=0.16 in c:\\users\\probe\\appdata\\local\\programs\\python\\python39\\lib\\site-packages (from ipython>=7.23.1->ipykernel>=5.1.2->pydeck<1,>=0.1.dev5->streamlit==1.23.0) (0.18.1)\n",
      "Requirement already satisfied: pickleshare in c:\\users\\probe\\appdata\\local\\programs\\python\\python39\\lib\\site-packages (from ipython>=7.23.1->ipykernel>=5.1.2->pydeck<1,>=0.1.dev5->streamlit==1.23.0) (0.7.5)\n",
      "Requirement already satisfied: prompt-toolkit!=3.0.0,!=3.0.1,<3.1.0,>=2.0.0 in c:\\users\\probe\\appdata\\local\\programs\\python\\python39\\lib\\site-packages (from ipython>=7.23.1->ipykernel>=5.1.2->pydeck<1,>=0.1.dev5->streamlit==1.23.0) (3.0.38)\n",
      "Requirement already satisfied: setuptools>=18.5 in c:\\users\\probe\\appdata\\local\\programs\\python\\python39\\lib\\site-packages (from ipython>=7.23.1->ipykernel>=5.1.2->pydeck<1,>=0.1.dev5->streamlit==1.23.0) (65.6.3)\n",
      "Requirement already satisfied: stack-data in c:\\users\\probe\\appdata\\local\\programs\\python\\python39\\lib\\site-packages (from ipython>=7.23.1->ipykernel>=5.1.2->pydeck<1,>=0.1.dev5->streamlit==1.23.0) (0.3.0)\n",
      "Requirement already satisfied: jupyter-core!=5.0.*,>=4.12 in c:\\users\\probe\\appdata\\local\\programs\\python\\python39\\lib\\site-packages (from jupyter-client>=6.1.12->ipykernel>=5.1.2->pydeck<1,>=0.1.dev5->streamlit==1.23.0) (5.3.0)\n",
      "Requirement already satisfied: notebook>=4.4.1 in c:\\users\\probe\\appdata\\local\\programs\\python\\python39\\lib\\site-packages (from widgetsnbextension~=3.6.0->ipywidgets>=7.0.0->pydeck<1,>=0.1.dev5->streamlit==1.23.0) (6.4.12)\n",
      "Requirement already satisfied: parso<0.9.0,>=0.8.0 in c:\\users\\probe\\appdata\\local\\programs\\python\\python39\\lib\\site-packages (from jedi>=0.16->ipython>=7.23.1->ipykernel>=5.1.2->pydeck<1,>=0.1.dev5->streamlit==1.23.0) (0.8.3)\n",
      "Requirement already satisfied: platformdirs>=2.5 in c:\\users\\probe\\appdata\\local\\programs\\python\\python39\\lib\\site-packages (from jupyter-core!=5.0.*,>=4.12->jupyter-client>=6.1.12->ipykernel>=5.1.2->pydeck<1,>=0.1.dev5->streamlit==1.23.0) (2.5.1)\n",
      "Requirement already satisfied: pywin32>=300 in c:\\users\\probe\\appdata\\local\\programs\\python\\python39\\lib\\site-packages (from jupyter-core!=5.0.*,>=4.12->jupyter-client>=6.1.12->ipykernel>=5.1.2->pydeck<1,>=0.1.dev5->streamlit==1.23.0) (304)\n",
      "Requirement already satisfied: argon2-cffi in c:\\users\\probe\\appdata\\local\\programs\\python\\python39\\lib\\site-packages (from notebook>=4.4.1->widgetsnbextension~=3.6.0->ipywidgets>=7.0.0->pydeck<1,>=0.1.dev5->streamlit==1.23.0) (21.3.0)\n",
      "Requirement already satisfied: nbformat in c:\\users\\probe\\appdata\\local\\programs\\python\\python39\\lib\\site-packages (from notebook>=4.4.1->widgetsnbextension~=3.6.0->ipywidgets>=7.0.0->pydeck<1,>=0.1.dev5->streamlit==1.23.0) (5.4.0)\n",
      "Requirement already satisfied: nbconvert>=5 in c:\\users\\probe\\appdata\\local\\programs\\python\\python39\\lib\\site-packages (from notebook>=4.4.1->widgetsnbextension~=3.6.0->ipywidgets>=7.0.0->pydeck<1,>=0.1.dev5->streamlit==1.23.0) (6.5.0)\n",
      "Requirement already satisfied: Send2Trash>=1.8.0 in c:\\users\\probe\\appdata\\local\\programs\\python\\python39\\lib\\site-packages (from notebook>=4.4.1->widgetsnbextension~=3.6.0->ipywidgets>=7.0.0->pydeck<1,>=0.1.dev5->streamlit==1.23.0) (1.8.3)\n",
      "Requirement already satisfied: terminado>=0.8.3 in c:\\users\\probe\\appdata\\local\\programs\\python\\python39\\lib\\site-packages (from notebook>=4.4.1->widgetsnbextension~=3.6.0->ipywidgets>=7.0.0->pydeck<1,>=0.1.dev5->streamlit==1.23.0) (0.15.0)\n",
      "Requirement already satisfied: prometheus-client in c:\\users\\probe\\appdata\\local\\programs\\python\\python39\\lib\\site-packages (from notebook>=4.4.1->widgetsnbextension~=3.6.0->ipywidgets>=7.0.0->pydeck<1,>=0.1.dev5->streamlit==1.23.0) (0.14.1)\n",
      "Requirement already satisfied: wcwidth in c:\\users\\probe\\appdata\\local\\programs\\python\\python39\\lib\\site-packages (from prompt-toolkit!=3.0.0,!=3.0.1,<3.1.0,>=2.0.0->ipython>=7.23.1->ipykernel>=5.1.2->pydeck<1,>=0.1.dev5->streamlit==1.23.0) (0.2.5)\n",
      "Requirement already satisfied: executing in c:\\users\\probe\\appdata\\local\\programs\\python\\python39\\lib\\site-packages (from stack-data->ipython>=7.23.1->ipykernel>=5.1.2->pydeck<1,>=0.1.dev5->streamlit==1.23.0) (0.8.3)\n",
      "Requirement already satisfied: asttokens in c:\\users\\probe\\appdata\\local\\programs\\python\\python39\\lib\\site-packages (from stack-data->ipython>=7.23.1->ipykernel>=5.1.2->pydeck<1,>=0.1.dev5->streamlit==1.23.0) (2.0.5)\n",
      "Requirement already satisfied: pure-eval in c:\\users\\probe\\appdata\\local\\programs\\python\\python39\\lib\\site-packages (from stack-data->ipython>=7.23.1->ipykernel>=5.1.2->pydeck<1,>=0.1.dev5->streamlit==1.23.0) (0.2.2)\n",
      "Requirement already satisfied: beautifulsoup4 in c:\\users\\probe\\appdata\\local\\programs\\python\\python39\\lib\\site-packages (from nbconvert>=5->notebook>=4.4.1->widgetsnbextension~=3.6.0->ipywidgets>=7.0.0->pydeck<1,>=0.1.dev5->streamlit==1.23.0) (4.10.0)\n",
      "Requirement already satisfied: bleach in c:\\users\\probe\\appdata\\local\\programs\\python\\python39\\lib\\site-packages (from nbconvert>=5->notebook>=4.4.1->widgetsnbextension~=3.6.0->ipywidgets>=7.0.0->pydeck<1,>=0.1.dev5->streamlit==1.23.0) (5.0.1)\n",
      "Requirement already satisfied: defusedxml in c:\\users\\probe\\appdata\\local\\programs\\python\\python39\\lib\\site-packages (from nbconvert>=5->notebook>=4.4.1->widgetsnbextension~=3.6.0->ipywidgets>=7.0.0->pydeck<1,>=0.1.dev5->streamlit==1.23.0) (0.7.1)\n",
      "Requirement already satisfied: jupyterlab-pygments in c:\\users\\probe\\appdata\\local\\programs\\python\\python39\\lib\\site-packages (from nbconvert>=5->notebook>=4.4.1->widgetsnbextension~=3.6.0->ipywidgets>=7.0.0->pydeck<1,>=0.1.dev5->streamlit==1.23.0) (0.2.2)\n",
      "Requirement already satisfied: mistune<2,>=0.8.1 in c:\\users\\probe\\appdata\\local\\programs\\python\\python39\\lib\\site-packages (from nbconvert>=5->notebook>=4.4.1->widgetsnbextension~=3.6.0->ipywidgets>=7.0.0->pydeck<1,>=0.1.dev5->streamlit==1.23.0) (0.8.4)\n",
      "Requirement already satisfied: nbclient>=0.5.0 in c:\\users\\probe\\appdata\\local\\programs\\python\\python39\\lib\\site-packages (from nbconvert>=5->notebook>=4.4.1->widgetsnbextension~=3.6.0->ipywidgets>=7.0.0->pydeck<1,>=0.1.dev5->streamlit==1.23.0) (0.6.4)\n",
      "Requirement already satisfied: pandocfilters>=1.4.1 in c:\\users\\probe\\appdata\\local\\programs\\python\\python39\\lib\\site-packages (from nbconvert>=5->notebook>=4.4.1->widgetsnbextension~=3.6.0->ipywidgets>=7.0.0->pydeck<1,>=0.1.dev5->streamlit==1.23.0) (1.5.0)\n",
      "Requirement already satisfied: tinycss2 in c:\\users\\probe\\appdata\\local\\programs\\python\\python39\\lib\\site-packages (from nbconvert>=5->notebook>=4.4.1->widgetsnbextension~=3.6.0->ipywidgets>=7.0.0->pydeck<1,>=0.1.dev5->streamlit==1.23.0) (1.1.1)\n",
      "Requirement already satisfied: fastjsonschema in c:\\users\\probe\\appdata\\local\\programs\\python\\python39\\lib\\site-packages (from nbformat->notebook>=4.4.1->widgetsnbextension~=3.6.0->ipywidgets>=7.0.0->pydeck<1,>=0.1.dev5->streamlit==1.23.0) (2.15.3)\n",
      "Requirement already satisfied: pywinpty>=1.1.0 in c:\\users\\probe\\appdata\\local\\programs\\python\\python39\\lib\\site-packages (from terminado>=0.8.3->notebook>=4.4.1->widgetsnbextension~=3.6.0->ipywidgets>=7.0.0->pydeck<1,>=0.1.dev5->streamlit==1.23.0) (2.0.5)\n",
      "Requirement already satisfied: argon2-cffi-bindings in c:\\users\\probe\\appdata\\local\\programs\\python\\python39\\lib\\site-packages (from argon2-cffi->notebook>=4.4.1->widgetsnbextension~=3.6.0->ipywidgets>=7.0.0->pydeck<1,>=0.1.dev5->streamlit==1.23.0) (21.2.0)\n",
      "Requirement already satisfied: cffi>=1.0.1 in c:\\users\\probe\\appdata\\local\\programs\\python\\python39\\lib\\site-packages (from argon2-cffi-bindings->argon2-cffi->notebook>=4.4.1->widgetsnbextension~=3.6.0->ipywidgets>=7.0.0->pydeck<1,>=0.1.dev5->streamlit==1.23.0) (1.15.0)\n",
      "Requirement already satisfied: soupsieve>1.2 in c:\\users\\probe\\appdata\\local\\programs\\python\\python39\\lib\\site-packages (from beautifulsoup4->nbconvert>=5->notebook>=4.4.1->widgetsnbextension~=3.6.0->ipywidgets>=7.0.0->pydeck<1,>=0.1.dev5->streamlit==1.23.0) (2.3.1)\n",
      "Requirement already satisfied: webencodings in c:\\users\\probe\\appdata\\local\\programs\\python\\python39\\lib\\site-packages (from bleach->nbconvert>=5->notebook>=4.4.1->widgetsnbextension~=3.6.0->ipywidgets>=7.0.0->pydeck<1,>=0.1.dev5->streamlit==1.23.0) (0.5.1)\n",
      "Requirement already satisfied: pycparser in c:\\users\\probe\\appdata\\local\\programs\\python\\python39\\lib\\site-packages (from cffi>=1.0.1->argon2-cffi-bindings->argon2-cffi->notebook>=4.4.1->widgetsnbextension~=3.6.0->ipywidgets>=7.0.0->pydeck<1,>=0.1.dev5->streamlit==1.23.0) (2.21)\n",
      "Note: you may need to restart the kernel to use updated packages.\n"
     ]
    }
   ],
   "source": [
    "%pip install streamlit==1.23.0"
   ]
  },
  {
   "cell_type": "code",
   "execution_count": 5,
   "metadata": {},
   "outputs": [
    {
     "name": "stdout",
     "output_type": "stream",
     "text": [
      "Collecting scikit-learn==1.0.2\n",
      "  Using cached scikit_learn-1.0.2-cp39-cp39-win_amd64.whl.metadata (10 kB)\n",
      "Requirement already satisfied: numpy>=1.14.6 in c:\\users\\probe\\appdata\\local\\programs\\python\\python39\\lib\\site-packages (from scikit-learn==1.0.2) (1.21.2)\n",
      "Requirement already satisfied: scipy>=1.1.0 in c:\\users\\probe\\appdata\\local\\programs\\python\\python39\\lib\\site-packages (from scikit-learn==1.0.2) (1.10.1)\n",
      "Requirement already satisfied: joblib>=0.11 in c:\\users\\probe\\appdata\\local\\programs\\python\\python39\\lib\\site-packages (from scikit-learn==1.0.2) (1.2.0)\n",
      "Requirement already satisfied: threadpoolctl>=2.0.0 in c:\\users\\probe\\appdata\\local\\programs\\python\\python39\\lib\\site-packages (from scikit-learn==1.0.2) (3.1.0)\n",
      "Using cached scikit_learn-1.0.2-cp39-cp39-win_amd64.whl (7.2 MB)\n",
      "Installing collected packages: scikit-learn\n",
      "  Attempting uninstall: scikit-learn\n",
      "    Found existing installation: scikit-learn 0.24.2\n",
      "    Uninstalling scikit-learn-0.24.2:\n",
      "      Successfully uninstalled scikit-learn-0.24.2\n",
      "Successfully installed scikit-learn-1.0.2\n",
      "Note: you may need to restart the kernel to use updated packages.\n"
     ]
    },
    {
     "name": "stderr",
     "output_type": "stream",
     "text": [
      "ERROR: pip's dependency resolver does not currently take into account all the packages that are installed. This behaviour is the source of the following dependency conflicts.\n",
      "bayesian-optimization 1.5.1 requires numpy>=1.25, but you have numpy 1.21.2 which is incompatible.\n",
      "cesium 0.12.3 requires numpy<3.0,>=2.0, but you have numpy 1.21.2 which is incompatible.\n",
      "imbalanced-learn 0.9.1 requires scikit-learn>=1.1.0, but you have scikit-learn 1.0.2 which is incompatible.\n",
      "skforecast 0.12.1 requires optuna<3.7,>=2.10, but you have optuna 4.1.0 which is incompatible.\n",
      "skforecast 0.12.1 requires scikit-learn<1.5,>=1.2, but you have scikit-learn 1.0.2 which is incompatible.\n"
     ]
    }
   ],
   "source": [
    "%pip install scikit-learn==1.0.2"
   ]
  },
  {
   "cell_type": "code",
   "execution_count": 6,
   "metadata": {},
   "outputs": [],
   "source": [
    "import pandas as pd\n",
    "import seaborn as sns\n",
    "import numpy as np\n",
    "import matplotlib.pyplot as plt"
   ]
  },
  {
   "cell_type": "code",
   "execution_count": 7,
   "metadata": {},
   "outputs": [
    {
     "name": "stdout",
     "output_type": "stream",
     "text": [
      "Collecting scikit-learn==0.24.2\n",
      "  Using cached scikit_learn-0.24.2-cp39-cp39-win_amd64.whl.metadata (9.8 kB)\n",
      "Requirement already satisfied: numpy>=1.13.3 in c:\\users\\probe\\appdata\\local\\programs\\python\\python39\\lib\\site-packages (from scikit-learn==0.24.2) (1.21.2)\n",
      "Requirement already satisfied: scipy>=0.19.1 in c:\\users\\probe\\appdata\\local\\programs\\python\\python39\\lib\\site-packages (from scikit-learn==0.24.2) (1.10.1)\n",
      "Requirement already satisfied: joblib>=0.11 in c:\\users\\probe\\appdata\\local\\programs\\python\\python39\\lib\\site-packages (from scikit-learn==0.24.2) (1.2.0)\n",
      "Requirement already satisfied: threadpoolctl>=2.0.0 in c:\\users\\probe\\appdata\\local\\programs\\python\\python39\\lib\\site-packages (from scikit-learn==0.24.2) (3.1.0)\n",
      "Using cached scikit_learn-0.24.2-cp39-cp39-win_amd64.whl (6.9 MB)\n",
      "Installing collected packages: scikit-learn\n",
      "  Attempting uninstall: scikit-learn\n",
      "    Found existing installation: scikit-learn 1.0.2\n",
      "    Uninstalling scikit-learn-1.0.2:\n",
      "      Successfully uninstalled scikit-learn-1.0.2\n",
      "Successfully installed scikit-learn-0.24.2\n",
      "Note: you may need to restart the kernel to use updated packages.\n"
     ]
    },
    {
     "name": "stderr",
     "output_type": "stream",
     "text": [
      "ERROR: pip's dependency resolver does not currently take into account all the packages that are installed. This behaviour is the source of the following dependency conflicts.\n",
      "bayesian-optimization 1.5.1 requires numpy>=1.25, but you have numpy 1.21.2 which is incompatible.\n",
      "bayesian-optimization 1.5.1 requires scikit-learn<2.0.0,>=1.0.0, but you have scikit-learn 0.24.2 which is incompatible.\n",
      "cesium 0.12.3 requires numpy<3.0,>=2.0, but you have numpy 1.21.2 which is incompatible.\n",
      "imbalanced-learn 0.9.1 requires scikit-learn>=1.1.0, but you have scikit-learn 0.24.2 which is incompatible.\n",
      "scikit-optimize 0.10.2 requires scikit-learn>=1.0.0, but you have scikit-learn 0.24.2 which is incompatible.\n",
      "skforecast 0.12.1 requires optuna<3.7,>=2.10, but you have optuna 4.1.0 which is incompatible.\n",
      "skforecast 0.12.1 requires scikit-learn<1.5,>=1.2, but you have scikit-learn 0.24.2 which is incompatible.\n"
     ]
    }
   ],
   "source": [
    "pip install scikit-learn==0.24.2"
   ]
  },
  {
   "cell_type": "code",
   "execution_count": 8,
   "metadata": {},
   "outputs": [],
   "source": [
    "data = pd.read_csv(r'C:\\Users\\probe\\Documents\\10_PROJETOS\\Deployment\\heart-attack-prediction\\data\\framingham.csv')"
   ]
  },
  {
   "cell_type": "code",
   "execution_count": 9,
   "metadata": {},
   "outputs": [
    {
     "data": {
      "text/html": [
       "<div>\n",
       "<style scoped>\n",
       "    .dataframe tbody tr th:only-of-type {\n",
       "        vertical-align: middle;\n",
       "    }\n",
       "\n",
       "    .dataframe tbody tr th {\n",
       "        vertical-align: top;\n",
       "    }\n",
       "\n",
       "    .dataframe thead th {\n",
       "        text-align: right;\n",
       "    }\n",
       "</style>\n",
       "<table border=\"1\" class=\"dataframe\">\n",
       "  <thead>\n",
       "    <tr style=\"text-align: right;\">\n",
       "      <th></th>\n",
       "      <th>male</th>\n",
       "      <th>age</th>\n",
       "      <th>education</th>\n",
       "      <th>currentSmoker</th>\n",
       "      <th>cigsPerDay</th>\n",
       "      <th>BPMeds</th>\n",
       "      <th>prevalentStroke</th>\n",
       "      <th>prevalentHyp</th>\n",
       "      <th>diabetes</th>\n",
       "      <th>totChol</th>\n",
       "      <th>sysBP</th>\n",
       "      <th>diaBP</th>\n",
       "      <th>BMI</th>\n",
       "      <th>heartRate</th>\n",
       "      <th>glucose</th>\n",
       "      <th>TenYearCHD</th>\n",
       "    </tr>\n",
       "  </thead>\n",
       "  <tbody>\n",
       "    <tr>\n",
       "      <th>0</th>\n",
       "      <td>1</td>\n",
       "      <td>39</td>\n",
       "      <td>4.0</td>\n",
       "      <td>0</td>\n",
       "      <td>0.0</td>\n",
       "      <td>0.0</td>\n",
       "      <td>0</td>\n",
       "      <td>0</td>\n",
       "      <td>0</td>\n",
       "      <td>195.0</td>\n",
       "      <td>106.0</td>\n",
       "      <td>70.0</td>\n",
       "      <td>26.97</td>\n",
       "      <td>80.0</td>\n",
       "      <td>77.0</td>\n",
       "      <td>0</td>\n",
       "    </tr>\n",
       "    <tr>\n",
       "      <th>1</th>\n",
       "      <td>0</td>\n",
       "      <td>46</td>\n",
       "      <td>2.0</td>\n",
       "      <td>0</td>\n",
       "      <td>0.0</td>\n",
       "      <td>0.0</td>\n",
       "      <td>0</td>\n",
       "      <td>0</td>\n",
       "      <td>0</td>\n",
       "      <td>250.0</td>\n",
       "      <td>121.0</td>\n",
       "      <td>81.0</td>\n",
       "      <td>28.73</td>\n",
       "      <td>95.0</td>\n",
       "      <td>76.0</td>\n",
       "      <td>0</td>\n",
       "    </tr>\n",
       "    <tr>\n",
       "      <th>2</th>\n",
       "      <td>1</td>\n",
       "      <td>48</td>\n",
       "      <td>1.0</td>\n",
       "      <td>1</td>\n",
       "      <td>20.0</td>\n",
       "      <td>0.0</td>\n",
       "      <td>0</td>\n",
       "      <td>0</td>\n",
       "      <td>0</td>\n",
       "      <td>245.0</td>\n",
       "      <td>127.5</td>\n",
       "      <td>80.0</td>\n",
       "      <td>25.34</td>\n",
       "      <td>75.0</td>\n",
       "      <td>70.0</td>\n",
       "      <td>0</td>\n",
       "    </tr>\n",
       "    <tr>\n",
       "      <th>3</th>\n",
       "      <td>0</td>\n",
       "      <td>61</td>\n",
       "      <td>3.0</td>\n",
       "      <td>1</td>\n",
       "      <td>30.0</td>\n",
       "      <td>0.0</td>\n",
       "      <td>0</td>\n",
       "      <td>1</td>\n",
       "      <td>0</td>\n",
       "      <td>225.0</td>\n",
       "      <td>150.0</td>\n",
       "      <td>95.0</td>\n",
       "      <td>28.58</td>\n",
       "      <td>65.0</td>\n",
       "      <td>103.0</td>\n",
       "      <td>1</td>\n",
       "    </tr>\n",
       "    <tr>\n",
       "      <th>4</th>\n",
       "      <td>0</td>\n",
       "      <td>46</td>\n",
       "      <td>3.0</td>\n",
       "      <td>1</td>\n",
       "      <td>23.0</td>\n",
       "      <td>0.0</td>\n",
       "      <td>0</td>\n",
       "      <td>0</td>\n",
       "      <td>0</td>\n",
       "      <td>285.0</td>\n",
       "      <td>130.0</td>\n",
       "      <td>84.0</td>\n",
       "      <td>23.10</td>\n",
       "      <td>85.0</td>\n",
       "      <td>85.0</td>\n",
       "      <td>0</td>\n",
       "    </tr>\n",
       "    <tr>\n",
       "      <th>...</th>\n",
       "      <td>...</td>\n",
       "      <td>...</td>\n",
       "      <td>...</td>\n",
       "      <td>...</td>\n",
       "      <td>...</td>\n",
       "      <td>...</td>\n",
       "      <td>...</td>\n",
       "      <td>...</td>\n",
       "      <td>...</td>\n",
       "      <td>...</td>\n",
       "      <td>...</td>\n",
       "      <td>...</td>\n",
       "      <td>...</td>\n",
       "      <td>...</td>\n",
       "      <td>...</td>\n",
       "      <td>...</td>\n",
       "    </tr>\n",
       "    <tr>\n",
       "      <th>4235</th>\n",
       "      <td>0</td>\n",
       "      <td>48</td>\n",
       "      <td>2.0</td>\n",
       "      <td>1</td>\n",
       "      <td>20.0</td>\n",
       "      <td>NaN</td>\n",
       "      <td>0</td>\n",
       "      <td>0</td>\n",
       "      <td>0</td>\n",
       "      <td>248.0</td>\n",
       "      <td>131.0</td>\n",
       "      <td>72.0</td>\n",
       "      <td>22.00</td>\n",
       "      <td>84.0</td>\n",
       "      <td>86.0</td>\n",
       "      <td>0</td>\n",
       "    </tr>\n",
       "    <tr>\n",
       "      <th>4236</th>\n",
       "      <td>0</td>\n",
       "      <td>44</td>\n",
       "      <td>1.0</td>\n",
       "      <td>1</td>\n",
       "      <td>15.0</td>\n",
       "      <td>0.0</td>\n",
       "      <td>0</td>\n",
       "      <td>0</td>\n",
       "      <td>0</td>\n",
       "      <td>210.0</td>\n",
       "      <td>126.5</td>\n",
       "      <td>87.0</td>\n",
       "      <td>19.16</td>\n",
       "      <td>86.0</td>\n",
       "      <td>NaN</td>\n",
       "      <td>0</td>\n",
       "    </tr>\n",
       "    <tr>\n",
       "      <th>4237</th>\n",
       "      <td>0</td>\n",
       "      <td>52</td>\n",
       "      <td>2.0</td>\n",
       "      <td>0</td>\n",
       "      <td>0.0</td>\n",
       "      <td>0.0</td>\n",
       "      <td>0</td>\n",
       "      <td>0</td>\n",
       "      <td>0</td>\n",
       "      <td>269.0</td>\n",
       "      <td>133.5</td>\n",
       "      <td>83.0</td>\n",
       "      <td>21.47</td>\n",
       "      <td>80.0</td>\n",
       "      <td>107.0</td>\n",
       "      <td>0</td>\n",
       "    </tr>\n",
       "    <tr>\n",
       "      <th>4238</th>\n",
       "      <td>1</td>\n",
       "      <td>40</td>\n",
       "      <td>3.0</td>\n",
       "      <td>0</td>\n",
       "      <td>0.0</td>\n",
       "      <td>0.0</td>\n",
       "      <td>0</td>\n",
       "      <td>1</td>\n",
       "      <td>0</td>\n",
       "      <td>185.0</td>\n",
       "      <td>141.0</td>\n",
       "      <td>98.0</td>\n",
       "      <td>25.60</td>\n",
       "      <td>67.0</td>\n",
       "      <td>72.0</td>\n",
       "      <td>0</td>\n",
       "    </tr>\n",
       "    <tr>\n",
       "      <th>4239</th>\n",
       "      <td>0</td>\n",
       "      <td>39</td>\n",
       "      <td>3.0</td>\n",
       "      <td>1</td>\n",
       "      <td>30.0</td>\n",
       "      <td>0.0</td>\n",
       "      <td>0</td>\n",
       "      <td>0</td>\n",
       "      <td>0</td>\n",
       "      <td>196.0</td>\n",
       "      <td>133.0</td>\n",
       "      <td>86.0</td>\n",
       "      <td>20.91</td>\n",
       "      <td>85.0</td>\n",
       "      <td>80.0</td>\n",
       "      <td>0</td>\n",
       "    </tr>\n",
       "  </tbody>\n",
       "</table>\n",
       "<p>4240 rows × 16 columns</p>\n",
       "</div>"
      ],
      "text/plain": [
       "      male  age  education  currentSmoker  cigsPerDay  BPMeds  \\\n",
       "0        1   39        4.0              0         0.0     0.0   \n",
       "1        0   46        2.0              0         0.0     0.0   \n",
       "2        1   48        1.0              1        20.0     0.0   \n",
       "3        0   61        3.0              1        30.0     0.0   \n",
       "4        0   46        3.0              1        23.0     0.0   \n",
       "...    ...  ...        ...            ...         ...     ...   \n",
       "4235     0   48        2.0              1        20.0     NaN   \n",
       "4236     0   44        1.0              1        15.0     0.0   \n",
       "4237     0   52        2.0              0         0.0     0.0   \n",
       "4238     1   40        3.0              0         0.0     0.0   \n",
       "4239     0   39        3.0              1        30.0     0.0   \n",
       "\n",
       "      prevalentStroke  prevalentHyp  diabetes  totChol  sysBP  diaBP    BMI  \\\n",
       "0                   0             0         0    195.0  106.0   70.0  26.97   \n",
       "1                   0             0         0    250.0  121.0   81.0  28.73   \n",
       "2                   0             0         0    245.0  127.5   80.0  25.34   \n",
       "3                   0             1         0    225.0  150.0   95.0  28.58   \n",
       "4                   0             0         0    285.0  130.0   84.0  23.10   \n",
       "...               ...           ...       ...      ...    ...    ...    ...   \n",
       "4235                0             0         0    248.0  131.0   72.0  22.00   \n",
       "4236                0             0         0    210.0  126.5   87.0  19.16   \n",
       "4237                0             0         0    269.0  133.5   83.0  21.47   \n",
       "4238                0             1         0    185.0  141.0   98.0  25.60   \n",
       "4239                0             0         0    196.0  133.0   86.0  20.91   \n",
       "\n",
       "      heartRate  glucose  TenYearCHD  \n",
       "0          80.0     77.0           0  \n",
       "1          95.0     76.0           0  \n",
       "2          75.0     70.0           0  \n",
       "3          65.0    103.0           1  \n",
       "4          85.0     85.0           0  \n",
       "...         ...      ...         ...  \n",
       "4235       84.0     86.0           0  \n",
       "4236       86.0      NaN           0  \n",
       "4237       80.0    107.0           0  \n",
       "4238       67.0     72.0           0  \n",
       "4239       85.0     80.0           0  \n",
       "\n",
       "[4240 rows x 16 columns]"
      ]
     },
     "execution_count": 9,
     "metadata": {},
     "output_type": "execute_result"
    }
   ],
   "source": [
    "data"
   ]
  },
  {
   "cell_type": "code",
   "execution_count": 10,
   "metadata": {},
   "outputs": [
    {
     "name": "stdout",
     "output_type": "stream",
     "text": [
      "<class 'pandas.core.frame.DataFrame'>\n",
      "RangeIndex: 4240 entries, 0 to 4239\n",
      "Data columns (total 16 columns):\n",
      " #   Column           Non-Null Count  Dtype  \n",
      "---  ------           --------------  -----  \n",
      " 0   male             4240 non-null   int64  \n",
      " 1   age              4240 non-null   int64  \n",
      " 2   education        4135 non-null   float64\n",
      " 3   currentSmoker    4240 non-null   int64  \n",
      " 4   cigsPerDay       4211 non-null   float64\n",
      " 5   BPMeds           4187 non-null   float64\n",
      " 6   prevalentStroke  4240 non-null   int64  \n",
      " 7   prevalentHyp     4240 non-null   int64  \n",
      " 8   diabetes         4240 non-null   int64  \n",
      " 9   totChol          4190 non-null   float64\n",
      " 10  sysBP            4240 non-null   float64\n",
      " 11  diaBP            4240 non-null   float64\n",
      " 12  BMI              4221 non-null   float64\n",
      " 13  heartRate        4239 non-null   float64\n",
      " 14  glucose          3852 non-null   float64\n",
      " 15  TenYearCHD       4240 non-null   int64  \n",
      "dtypes: float64(9), int64(7)\n",
      "memory usage: 530.1 KB\n"
     ]
    }
   ],
   "source": [
    "data.info()"
   ]
  },
  {
   "cell_type": "code",
   "execution_count": 11,
   "metadata": {},
   "outputs": [
    {
     "data": {
      "text/html": [
       "<div>\n",
       "<style scoped>\n",
       "    .dataframe tbody tr th:only-of-type {\n",
       "        vertical-align: middle;\n",
       "    }\n",
       "\n",
       "    .dataframe tbody tr th {\n",
       "        vertical-align: top;\n",
       "    }\n",
       "\n",
       "    .dataframe thead th {\n",
       "        text-align: right;\n",
       "    }\n",
       "</style>\n",
       "<table border=\"1\" class=\"dataframe\">\n",
       "  <thead>\n",
       "    <tr style=\"text-align: right;\">\n",
       "      <th></th>\n",
       "      <th>male</th>\n",
       "      <th>age</th>\n",
       "      <th>education</th>\n",
       "      <th>currentSmoker</th>\n",
       "      <th>cigsPerDay</th>\n",
       "      <th>BPMeds</th>\n",
       "      <th>prevalentStroke</th>\n",
       "      <th>prevalentHyp</th>\n",
       "      <th>diabetes</th>\n",
       "      <th>totChol</th>\n",
       "      <th>sysBP</th>\n",
       "      <th>diaBP</th>\n",
       "      <th>BMI</th>\n",
       "      <th>heartRate</th>\n",
       "      <th>glucose</th>\n",
       "      <th>TenYearCHD</th>\n",
       "    </tr>\n",
       "  </thead>\n",
       "  <tbody>\n",
       "    <tr>\n",
       "      <th>count</th>\n",
       "      <td>4240.000000</td>\n",
       "      <td>4240.000000</td>\n",
       "      <td>4135.000000</td>\n",
       "      <td>4240.000000</td>\n",
       "      <td>4211.000000</td>\n",
       "      <td>4187.000000</td>\n",
       "      <td>4240.000000</td>\n",
       "      <td>4240.000000</td>\n",
       "      <td>4240.000000</td>\n",
       "      <td>4190.000000</td>\n",
       "      <td>4240.000000</td>\n",
       "      <td>4240.000000</td>\n",
       "      <td>4221.000000</td>\n",
       "      <td>4239.000000</td>\n",
       "      <td>3852.000000</td>\n",
       "      <td>4240.000000</td>\n",
       "    </tr>\n",
       "    <tr>\n",
       "      <th>mean</th>\n",
       "      <td>0.429245</td>\n",
       "      <td>49.580189</td>\n",
       "      <td>1.979444</td>\n",
       "      <td>0.494104</td>\n",
       "      <td>9.005937</td>\n",
       "      <td>0.029615</td>\n",
       "      <td>0.005896</td>\n",
       "      <td>0.310613</td>\n",
       "      <td>0.025708</td>\n",
       "      <td>236.699523</td>\n",
       "      <td>132.354599</td>\n",
       "      <td>82.897759</td>\n",
       "      <td>25.800801</td>\n",
       "      <td>75.878981</td>\n",
       "      <td>81.963655</td>\n",
       "      <td>0.151887</td>\n",
       "    </tr>\n",
       "    <tr>\n",
       "      <th>std</th>\n",
       "      <td>0.495027</td>\n",
       "      <td>8.572942</td>\n",
       "      <td>1.019791</td>\n",
       "      <td>0.500024</td>\n",
       "      <td>11.922462</td>\n",
       "      <td>0.169544</td>\n",
       "      <td>0.076569</td>\n",
       "      <td>0.462799</td>\n",
       "      <td>0.158280</td>\n",
       "      <td>44.591284</td>\n",
       "      <td>22.033300</td>\n",
       "      <td>11.910394</td>\n",
       "      <td>4.079840</td>\n",
       "      <td>12.025348</td>\n",
       "      <td>23.954335</td>\n",
       "      <td>0.358953</td>\n",
       "    </tr>\n",
       "    <tr>\n",
       "      <th>min</th>\n",
       "      <td>0.000000</td>\n",
       "      <td>32.000000</td>\n",
       "      <td>1.000000</td>\n",
       "      <td>0.000000</td>\n",
       "      <td>0.000000</td>\n",
       "      <td>0.000000</td>\n",
       "      <td>0.000000</td>\n",
       "      <td>0.000000</td>\n",
       "      <td>0.000000</td>\n",
       "      <td>107.000000</td>\n",
       "      <td>83.500000</td>\n",
       "      <td>48.000000</td>\n",
       "      <td>15.540000</td>\n",
       "      <td>44.000000</td>\n",
       "      <td>40.000000</td>\n",
       "      <td>0.000000</td>\n",
       "    </tr>\n",
       "    <tr>\n",
       "      <th>25%</th>\n",
       "      <td>0.000000</td>\n",
       "      <td>42.000000</td>\n",
       "      <td>1.000000</td>\n",
       "      <td>0.000000</td>\n",
       "      <td>0.000000</td>\n",
       "      <td>0.000000</td>\n",
       "      <td>0.000000</td>\n",
       "      <td>0.000000</td>\n",
       "      <td>0.000000</td>\n",
       "      <td>206.000000</td>\n",
       "      <td>117.000000</td>\n",
       "      <td>75.000000</td>\n",
       "      <td>23.070000</td>\n",
       "      <td>68.000000</td>\n",
       "      <td>71.000000</td>\n",
       "      <td>0.000000</td>\n",
       "    </tr>\n",
       "    <tr>\n",
       "      <th>50%</th>\n",
       "      <td>0.000000</td>\n",
       "      <td>49.000000</td>\n",
       "      <td>2.000000</td>\n",
       "      <td>0.000000</td>\n",
       "      <td>0.000000</td>\n",
       "      <td>0.000000</td>\n",
       "      <td>0.000000</td>\n",
       "      <td>0.000000</td>\n",
       "      <td>0.000000</td>\n",
       "      <td>234.000000</td>\n",
       "      <td>128.000000</td>\n",
       "      <td>82.000000</td>\n",
       "      <td>25.400000</td>\n",
       "      <td>75.000000</td>\n",
       "      <td>78.000000</td>\n",
       "      <td>0.000000</td>\n",
       "    </tr>\n",
       "    <tr>\n",
       "      <th>75%</th>\n",
       "      <td>1.000000</td>\n",
       "      <td>56.000000</td>\n",
       "      <td>3.000000</td>\n",
       "      <td>1.000000</td>\n",
       "      <td>20.000000</td>\n",
       "      <td>0.000000</td>\n",
       "      <td>0.000000</td>\n",
       "      <td>1.000000</td>\n",
       "      <td>0.000000</td>\n",
       "      <td>263.000000</td>\n",
       "      <td>144.000000</td>\n",
       "      <td>90.000000</td>\n",
       "      <td>28.040000</td>\n",
       "      <td>83.000000</td>\n",
       "      <td>87.000000</td>\n",
       "      <td>0.000000</td>\n",
       "    </tr>\n",
       "    <tr>\n",
       "      <th>max</th>\n",
       "      <td>1.000000</td>\n",
       "      <td>70.000000</td>\n",
       "      <td>4.000000</td>\n",
       "      <td>1.000000</td>\n",
       "      <td>70.000000</td>\n",
       "      <td>1.000000</td>\n",
       "      <td>1.000000</td>\n",
       "      <td>1.000000</td>\n",
       "      <td>1.000000</td>\n",
       "      <td>696.000000</td>\n",
       "      <td>295.000000</td>\n",
       "      <td>142.500000</td>\n",
       "      <td>56.800000</td>\n",
       "      <td>143.000000</td>\n",
       "      <td>394.000000</td>\n",
       "      <td>1.000000</td>\n",
       "    </tr>\n",
       "  </tbody>\n",
       "</table>\n",
       "</div>"
      ],
      "text/plain": [
       "              male          age    education  currentSmoker   cigsPerDay  \\\n",
       "count  4240.000000  4240.000000  4135.000000    4240.000000  4211.000000   \n",
       "mean      0.429245    49.580189     1.979444       0.494104     9.005937   \n",
       "std       0.495027     8.572942     1.019791       0.500024    11.922462   \n",
       "min       0.000000    32.000000     1.000000       0.000000     0.000000   \n",
       "25%       0.000000    42.000000     1.000000       0.000000     0.000000   \n",
       "50%       0.000000    49.000000     2.000000       0.000000     0.000000   \n",
       "75%       1.000000    56.000000     3.000000       1.000000    20.000000   \n",
       "max       1.000000    70.000000     4.000000       1.000000    70.000000   \n",
       "\n",
       "            BPMeds  prevalentStroke  prevalentHyp     diabetes      totChol  \\\n",
       "count  4187.000000      4240.000000   4240.000000  4240.000000  4190.000000   \n",
       "mean      0.029615         0.005896      0.310613     0.025708   236.699523   \n",
       "std       0.169544         0.076569      0.462799     0.158280    44.591284   \n",
       "min       0.000000         0.000000      0.000000     0.000000   107.000000   \n",
       "25%       0.000000         0.000000      0.000000     0.000000   206.000000   \n",
       "50%       0.000000         0.000000      0.000000     0.000000   234.000000   \n",
       "75%       0.000000         0.000000      1.000000     0.000000   263.000000   \n",
       "max       1.000000         1.000000      1.000000     1.000000   696.000000   \n",
       "\n",
       "             sysBP        diaBP          BMI    heartRate      glucose  \\\n",
       "count  4240.000000  4240.000000  4221.000000  4239.000000  3852.000000   \n",
       "mean    132.354599    82.897759    25.800801    75.878981    81.963655   \n",
       "std      22.033300    11.910394     4.079840    12.025348    23.954335   \n",
       "min      83.500000    48.000000    15.540000    44.000000    40.000000   \n",
       "25%     117.000000    75.000000    23.070000    68.000000    71.000000   \n",
       "50%     128.000000    82.000000    25.400000    75.000000    78.000000   \n",
       "75%     144.000000    90.000000    28.040000    83.000000    87.000000   \n",
       "max     295.000000   142.500000    56.800000   143.000000   394.000000   \n",
       "\n",
       "        TenYearCHD  \n",
       "count  4240.000000  \n",
       "mean      0.151887  \n",
       "std       0.358953  \n",
       "min       0.000000  \n",
       "25%       0.000000  \n",
       "50%       0.000000  \n",
       "75%       0.000000  \n",
       "max       1.000000  "
      ]
     },
     "execution_count": 11,
     "metadata": {},
     "output_type": "execute_result"
    }
   ],
   "source": [
    "data.describe()"
   ]
  },
  {
   "cell_type": "code",
   "execution_count": 12,
   "metadata": {},
   "outputs": [
    {
     "data": {
      "text/plain": [
       "male                 0\n",
       "age                  0\n",
       "education          105\n",
       "currentSmoker        0\n",
       "cigsPerDay          29\n",
       "BPMeds              53\n",
       "prevalentStroke      0\n",
       "prevalentHyp         0\n",
       "diabetes             0\n",
       "totChol             50\n",
       "sysBP                0\n",
       "diaBP                0\n",
       "BMI                 19\n",
       "heartRate            1\n",
       "glucose            388\n",
       "TenYearCHD           0\n",
       "dtype: int64"
      ]
     },
     "execution_count": 12,
     "metadata": {},
     "output_type": "execute_result"
    }
   ],
   "source": [
    "data.isnull().sum()"
   ]
  },
  {
   "cell_type": "code",
   "execution_count": 13,
   "metadata": {},
   "outputs": [],
   "source": [
    "data = data.interpolate(method='linear', limit_direction='forward', axis=0)"
   ]
  },
  {
   "cell_type": "code",
   "execution_count": 14,
   "metadata": {},
   "outputs": [
    {
     "data": {
      "text/plain": [
       "male               0\n",
       "age                0\n",
       "education          0\n",
       "currentSmoker      0\n",
       "cigsPerDay         0\n",
       "BPMeds             0\n",
       "prevalentStroke    0\n",
       "prevalentHyp       0\n",
       "diabetes           0\n",
       "totChol            0\n",
       "sysBP              0\n",
       "diaBP              0\n",
       "BMI                0\n",
       "heartRate          0\n",
       "glucose            0\n",
       "TenYearCHD         0\n",
       "dtype: int64"
      ]
     },
     "execution_count": 14,
     "metadata": {},
     "output_type": "execute_result"
    }
   ],
   "source": [
    "data.isnull().sum()"
   ]
  },
  {
   "cell_type": "code",
   "execution_count": 15,
   "metadata": {},
   "outputs": [
    {
     "data": {
      "image/png": "[encoded data removed]",
      "text/plain": [
       "<Figure size 432x288 with 1 Axes>"
      ]
     },
     "metadata": {
      "needs_background": "light"
     },
     "output_type": "display_data"
    }
   ],
   "source": [
    "\n",
    "\n",
    "# Visualize the distribution of the target variable\n",
    "sns.countplot(x='TenYearCHD', data=data)\n",
    "plt.title('Heart Attack Distribution')\n",
    "plt.show()\n",
    "\n"
   ]
  },
  {
   "cell_type": "code",
   "execution_count": 16,
   "metadata": {},
   "outputs": [],
   "source": [
    "\n",
    "import matplotlib.pyplot as plt\n",
    "%matplotlib inline\n",
    "   "
   ]
  },
  {
   "cell_type": "code",
   "execution_count": 17,
   "metadata": {},
   "outputs": [],
   "source": [
    "\n",
    "from sklearn.model_selection import train_test_split\n",
    "from sklearn.ensemble import RandomForestClassifier\n",
    "\n",
    "\n",
    "from sklearn.metrics import classification_report, confusion_matrix\n",
    "\n",
    "\n"
   ]
  },
  {
   "cell_type": "code",
   "execution_count": 18,
   "metadata": {},
   "outputs": [],
   "source": [
    "X = data.drop('TenYearCHD', axis=1)\n",
    "y = data['TenYearCHD']"
   ]
  },
  {
   "cell_type": "code",
   "execution_count": 19,
   "metadata": {},
   "outputs": [],
   "source": [
    "from sklearn.metrics import r2_score\n",
    "\n",
    "from sklearn.preprocessing import StandardScaler\n",
    "\n",
    "from sklearn.preprocessing import MinMaxScaler"
   ]
  },
  {
   "cell_type": "code",
   "execution_count": 20,
   "metadata": {},
   "outputs": [],
   "source": [
    "scaler = StandardScaler()\n",
    "X_scaled = scaler.fit_transform(X)\n"
   ]
  },
  {
   "cell_type": "code",
   "execution_count": 21,
   "metadata": {},
   "outputs": [],
   "source": [
    "#X = data.drop('TenYearCHD', axis=1)\n",
    "#y = data['TenYearCHD']\n",
    "\n",
    "# Train-test split\n",
    "X_train, X_test, y_train, y_test = train_test_split(X_scaled, y, test_size=0.20, random_state=42)"
   ]
  },
  {
   "cell_type": "code",
   "execution_count": 22,
   "metadata": {},
   "outputs": [
    {
     "data": {
      "text/plain": [
       "((3392, 15), (848, 15), (3392,), (848,))"
      ]
     },
     "execution_count": 22,
     "metadata": {},
     "output_type": "execute_result"
    }
   ],
   "source": [
    "X_train.shape, X_test.shape, y_train.shape, y_test.shape"
   ]
  },
  {
   "cell_type": "code",
   "execution_count": 23,
   "metadata": {},
   "outputs": [
    {
     "data": {
      "text/plain": [
       "RandomForestClassifier()"
      ]
     },
     "execution_count": 23,
     "metadata": {},
     "output_type": "execute_result"
    }
   ],
   "source": [
    "# Model training\n",
    "model = RandomForestClassifier()\n",
    "model.fit(X_train, y_train)"
   ]
  },
  {
   "cell_type": "code",
   "execution_count": 24,
   "metadata": {},
   "outputs": [],
   "source": [
    "# Predictions\n",
    "y_pred = model.predict(X_test)"
   ]
  },
  {
   "cell_type": "code",
   "execution_count": 25,
   "metadata": {},
   "outputs": [],
   "source": [
    "import joblib"
   ]
  },
  {
   "cell_type": "code",
   "execution_count": 26,
   "metadata": {},
   "outputs": [
    {
     "name": "stdout",
     "output_type": "stream",
     "text": [
      "Modelo salvo com sucesso!\n"
     ]
    }
   ],
   "source": [
    "# Salvar o modelo em um arquivo .pkl\n",
    "joblib.dump(model, r'C:\\Users\\probe\\Documents\\10_PROJETOS\\Deployment\\heart-attack-prediction\\notebooks\\fhs_rf_model.pkl')\n",
    "\n",
    "print(\"Modelo salvo com sucesso!\")"
   ]
  },
  {
   "cell_type": "code",
   "execution_count": 27,
   "metadata": {},
   "outputs": [
    {
     "name": "stdout",
     "output_type": "stream",
     "text": [
      "              precision    recall  f1-score   support\n",
      "\n",
      "           0       0.86      0.99      0.92       725\n",
      "           1       0.45      0.04      0.07       123\n",
      "\n",
      "    accuracy                           0.85       848\n",
      "   macro avg       0.66      0.52      0.50       848\n",
      "weighted avg       0.80      0.85      0.80       848\n",
      "\n"
     ]
    }
   ],
   "source": [
    "# Evaluation\n",
    "print(classification_report(y_test, y_pred))"
   ]
  },
  {
   "cell_type": "code",
   "execution_count": 28,
   "metadata": {},
   "outputs": [
    {
     "data": {
      "image/png": "[encoded data removed]",
      "text/plain": [
       "<Figure size 432x288 with 2 Axes>"
      ]
     },
     "metadata": {
      "needs_background": "light"
     },
     "output_type": "display_data"
    }
   ],
   "source": [
    "sns.heatmap(confusion_matrix(y_test, y_pred), annot=True, fmt='d')\n",
    "plt.show()"
   ]
  },
  {
   "cell_type": "code",
   "execution_count": null,
   "metadata": {},
   "outputs": [],
   "source": []
  }
 ],
 "metadata": {
  "kernelspec": {
   "display_name": "Python 3",
   "language": "python",
   "name": "python3"
  },
  "language_info": {
   "codemirror_mode": {
    "name": "ipython",
    "version": 3
   },
   "file_extension": ".py",
   "mimetype": "text/x-python",
   "name": "python",
   "nbconvert_exporter": "python",
   "pygments_lexer": "ipython3",
   "version": "3.9.11"
  }
 },
 "nbformat": 4,
 "nbformat_minor": 2
}
